{
 "cells": [
  {
   "cell_type": "markdown",
   "metadata": {},
   "source": [
    "to setup python environment with needed packages:\n",
    "  \n",
    "conda create -n openai-cloud   \n",
    "conda activate openai-cloud   \n",
    "conda install -c conda-forge openai>=1.2.4 ipykernel jupyterlab notebook python=3.10.0   \n",
    "\n",
    "to set up kernel in jupyterlabs:  \n",
    "\n",
    "python -m ipykernel install --user --name=openai-cloud  \n",
    "\n",
    "reference:  \n",
    "https://help.openai.com/en/articles/5112595-best-practices-for-api-key-safety  \n"
   ]
  },
  {
   "cell_type": "markdown",
   "metadata": {},
   "source": []
  },
  {
   "cell_type": "code",
   "execution_count": 2,
   "metadata": {},
   "outputs": [],
   "source": [
    "from openai import OpenAI\n",
    "import base64\n",
    "import json\n",
    "import os\n",
    "from urllib.parse import urlparse"
   ]
  },
  {
   "cell_type": "code",
   "execution_count": 3,
   "metadata": {},
   "outputs": [],
   "source": [
    "def encode_image(image_path):\n",
    "    with open(image_path, \"rb\") as image_file:\n",
    "        return base64.b64encode(image_file.read()).decode('utf-8')"
   ]
  },
  {
   "cell_type": "code",
   "execution_count": 4,
   "metadata": {},
   "outputs": [],
   "source": [
    "def process_response(response):\n",
    "    json_string = response.choices[0].message.content\n",
    "    json_string = json_string.replace(\"```json\\n\", \"\").replace(\"\\n```\", \"\")\n",
    "    json_data = json.loads(json_string)\n",
    "\n",
    "    #filename_without_extension = os.path.splitext(os.path.basename(urlparse(base64_img).path))[0] #for URL image\n",
    "    filename_without_extension = os.path.splitext(os.path.basename(image_local))[0] #for local image\n",
    "\n",
    "    json_filename = f\"{filename_without_extension}.json\"\n",
    "    with open(\"./Data/\" + json_filename, 'w') as file:\n",
    "        json.dump(json_data, file, indent=4)\n",
    "    print(f\"JSON data saved to {json_filename}\")"
   ]
  },
  {
   "cell_type": "code",
   "execution_count": 5,
   "metadata": {},
   "outputs": [],
   "source": [
    "# image_local = 'ML-1955-2.png'\n",
    "image_local = 'dl1.png'\n",
    "base64_img = f\"data:image/png;base64,{encode_image(image_local)}\"\n",
    "#image_url = 'https://d2908q01vomqb2.cloudfront.net/f1f836cb4ea6efb2a0b1b99f41ad8b103eff4b59/2021/02/19/ML-1955-2.jpg'\n"
   ]
  },
  {
   "cell_type": "code",
   "execution_count": null,
   "metadata": {},
   "outputs": [],
   "source": [
    "client = OpenAI() #Best practice needs OPENAI_API_KEY environment variable\n",
    "# client = OpenAI('OpenAI API Key here')"
   ]
  },
  {
   "cell_type": "code",
   "execution_count": null,
   "metadata": {},
   "outputs": [],
   "source": []
  }
 ],
 "metadata": {
  "kernelspec": {
   "display_name": "openai-cloud",
   "language": "python",
   "name": "python3"
  },
  "language_info": {
   "codemirror_mode": {
    "name": "ipython",
    "version": 3
   },
   "file_extension": ".py",
   "mimetype": "text/x-python",
   "name": "python",
   "nbconvert_exporter": "python",
   "pygments_lexer": "ipython3",
   "version": "3.10.0"
  }
 },
 "nbformat": 4,
 "nbformat_minor": 2
}
